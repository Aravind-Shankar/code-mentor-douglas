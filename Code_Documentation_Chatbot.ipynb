{
 "cells": [
  {
   "cell_type": "markdown",
   "metadata": {},
   "source": [
    "### LLM Setup"
   ]
  },
  {
   "cell_type": "code",
   "execution_count": 2,
   "metadata": {},
   "outputs": [
    {
     "name": "stderr",
     "output_type": "stream",
     "text": [
      "d:\\Installs\\Miniconda\\envs\\LLM\\Lib\\site-packages\\langchain_nvidia_ai_endpoints\\_common.py:556: UserWarning: Found nvidia/embed-qa-4 in available_models, but type is unknown and inference may fail.\n",
      "  warnings.warn(\n"
     ]
    }
   ],
   "source": [
    "#from langchain_community.llms import Ollama\n",
    "from langchain_community.embeddings import GPT4AllEmbeddings\n",
    "\n",
    "gpt4all_embd = GPT4AllEmbeddings(model_name=\"all-MiniLM-L6-v2.gguf2.f16.gguf\")\n",
    "#llm = Ollama(model=\"llama2\", temperature=0.5)\n",
    "\n",
    "from langchain_nvidia_ai_endpoints import ChatNVIDIA\n",
    "from langchain_nvidia_ai_endpoints import NVIDIAEmbeddings\n",
    "\n",
    "embedder = NVIDIAEmbeddings(model=\"nvidia/embed-qa-4\", nvidia_api_key=\"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\")\n",
    "\n",
    "llm = ChatNVIDIA(model=\"meta/llama3-70b-instruct\", nvidia_api_key=\"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\", temperature=0.45)"
   ]
  },
  {
   "cell_type": "markdown",
   "metadata": {},
   "source": [
    "### Utility functions"
   ]
  },
  {
   "cell_type": "code",
   "execution_count": 3,
   "metadata": {},
   "outputs": [],
   "source": [
    "async def astream(invocable, inputs, *args, **kwargs):\n",
    "    async for chunk in invocable.astream(inputs, *args, **kwargs):\n",
    "        print(chunk, end=\"\")\n",
    "\n",
    "def parse_bullet_points(text):\n",
    "    bullet_char = '•'\n",
    "    lines = text.split('\\n')\n",
    "\n",
    "    lines = list(filter(lambda line: line.startswith(bullet_char), lines))\n",
    "    return text\n",
    "    return \"\\n\".join(lines)"
   ]
  },
  {
   "cell_type": "markdown",
   "metadata": {},
   "source": [
    "#### Prompt Chains"
   ]
  },
  {
   "cell_type": "code",
   "execution_count": 18,
   "metadata": {},
   "outputs": [],
   "source": [
    "from langchain_core.prompts import ChatPromptTemplate\n",
    "\n",
    "code_interpretation_prompt_template = ChatPromptTemplate.from_messages([\n",
    "    (\"system\", \"\"\"You are an AI agent tasked with understanding chunks from a codebase that is written in C++ and CUDA. Keep the following points in mind while writing interpretation:\n",
    "• Note down and briefly describe any headers, macros, or #defines present and their purposes.\n",
    "• Identify and list the class names, along with all member functions and variables in the chunk of code.\n",
    "• For each function, note its purpose and role within the code.\n",
    "• For each member variable of a class, note where it is referred to and its purpose.\n",
    "• All responses MUST be in bullet points - must start with the character '•'\n",
    "• Do NOT use any other sentence formatting.\n",
    "• Do NOT include any introductory or concluding statements.\"\"\"),\n",
    "    (\"user\", \"The code chunk you will need to process is:\\n{code_chunk}\")\n",
    "])\n",
    "\n",
    "code_interpretation_chain = code_interpretation_prompt_template | llm"
   ]
  },
  {
   "cell_type": "code",
   "execution_count": 19,
   "metadata": {},
   "outputs": [],
   "source": [
    "from langchain_core.prompts import ChatPromptTemplate\n",
    "\n",
    "combined_interpretation_prompt_template = ChatPromptTemplate.from_messages([\n",
    "    (\"system\", \"\"\"You are an AI agent tasked with combining the essence of the below two code inferences:\n",
    "• Combine the essence of two code inferences into a single, standalone passage.\n",
    "• Treat function or class interpretations that spill over as a single logical unit.\n",
    "• Include all unique information from both summaries.\n",
    "• Use concise technical language.\n",
    "• Ensure consistency in terminology and formatting.\n",
    "• All responses MUST be in bullet points - must start with the character '•'\n",
    "• Do NOT use any other sentence formatting.\n",
    "• Do NOT include any introductory or concluding statements.\n",
    "\"\"\"),\n",
    "    (\"user\", \"The two code inferences you will need to cobine are:\\n text 1:{summary_1} \\n text 2:{summary_2}\")\n",
    "])\n",
    "\n",
    "combined_interpretation_chain = combined_interpretation_prompt_template | llm"
   ]
  },
  {
   "cell_type": "markdown",
   "metadata": {},
   "source": [
    "#### Vectorstore database generation"
   ]
  },
  {
   "cell_type": "code",
   "execution_count": 23,
   "metadata": {},
   "outputs": [],
   "source": [
    "import os, os.path as osp\n",
    "from langchain_community.vectorstores import Chroma\n",
    "from langchain_text_splitters import RecursiveCharacterTextSplitter, Language\n",
    "from langchain_community.document_loaders import TextLoader\n",
    "from langchain.docstore.document import Document\n",
    "from tqdm import tqdm\n",
    "import glob\n",
    "\n",
    "class KnowledgeBase:\n",
    "    def __init__(self, repo_path):\n",
    "        self.db = Chroma(embedding_function=gpt4all_embd, persist_directory=\".\\\\knowledge_db\\\\vector_store\")\n",
    "        self.language_splitter = RecursiveCharacterTextSplitter.from_language(language=Language.CPP, chunk_size=1000, chunk_overlap=100)\n",
    "        self.repo_path = repo_path\n",
    "        self.in_memory_db = []\n",
    "        self.per_file_interpretations = []\n",
    "\n",
    "    def add_knowledge_per_file(self, file_path):\n",
    "        print(f\"Processing {file_path}...\")\n",
    "        interpretations_per_chunk = []\n",
    "        loader = TextLoader(file_path)\n",
    "        file_data = loader.load()\n",
    "        code_chunks = self.language_splitter.split_documents(file_data)\n",
    "\n",
    "        for chunk in tqdm(code_chunks):\n",
    "            interpretation = code_interpretation_chain.invoke(chunk.page_content)\n",
    "            interpretation_pointwise = parse_bullet_points(interpretation.content)\n",
    "            print(\"****************************\")\n",
    "            print(interpretation_pointwise)\n",
    "            print(\"****************************\")\n",
    "            source_file_name = chunk.metadata[\"source\"]\n",
    "            interpretations_per_chunk.append(Document(page_content=source_file_name+\"\\n\"+interpretation_pointwise, metadata=chunk.metadata))\n",
    "        \n",
    "        read_buffer = interpretations_per_chunk.copy()\n",
    "        merge_buffer = []\n",
    "\n",
    "        while len(read_buffer) > 1:\n",
    "            for i in range(0, len(read_buffer), 2):\n",
    "                if i == len(read_buffer)-1:\n",
    "                    merge_buffer.append(Document(page_content=read_buffer[i].page_content, metadata=read_buffer[i].metadata))\n",
    "                else:\n",
    "                    interpretation = combined_interpretation_chain.invoke({\"summary_1\":read_buffer[i].page_content, \"summary_2\":read_buffer[i+1].page_content})\n",
    "                    interpretation_pointwise = parse_bullet_points(interpretation.content)\n",
    "                    source_file = read_buffer[i].metadata[\"source\"]\n",
    "                    print(\"****************************\")\n",
    "                    print(interpretation_pointwise)\n",
    "                    print(\"****************************\")\n",
    "                    merge_buffer.append(Document(page_content=source_file+\"\\n\"+interpretation_pointwise, metadata=read_buffer[i].metadata))\n",
    "\n",
    "            read_buffer.clear()\n",
    "            read_buffer.extend(merge_buffer)\n",
    "            self.in_memory_db.extend(merge_buffer)\n",
    "            merge_buffer.clear()\n",
    "\n",
    "        self.per_file_interpretations.append(read_buffer[0])\n",
    "\n",
    "    def generate_knowledge_base(self):\n",
    "        \n",
    "        source_files = glob.glob(self.repo_path + \"\\\\*.*\")\n",
    "\n",
    "        for source_file in source_files:\n",
    "            self.add_knowledge_per_file(source_file)\n",
    "        \n",
    "        read_buffer = self.per_file_interpretations.copy()\n",
    "        merge_buffer = []\n",
    "\n",
    "        while len(read_buffer) > 1:\n",
    "            for i in range(0, len(read_buffer), 2):\n",
    "                if i == len(read_buffer)-1:\n",
    "                    merge_buffer.append(Document(page_content=read_buffer[i].page_content, metadata=read_buffer[i].metadata))\n",
    "                else:\n",
    "                    interpretation = combined_interpretation_chain.invoke({\"summary_1\":read_buffer[i].page_content, \"summary_2\":read_buffer[i+1].page_content})\n",
    "                    interpretation_pointwise = parse_bullet_points(interpretation.content)\n",
    "                    source_list_set = set(read_buffer[i].metadata[\"source\"].split(\"|\")).union(read_buffer[i+1].metadata[\"source\"].split(\"|\"))\n",
    "                    source_list_str = \"|\".join(source_list_set)\n",
    "                    combined_meta = {\"source\": source_list_str}\n",
    "\n",
    "                    merge_buffer.append(Document(page_content=source_list_str+\"\\n\"+interpretation_pointwise, metadata=combined_meta))\n",
    "\n",
    "            read_buffer.clear()\n",
    "            read_buffer.extend(merge_buffer)\n",
    "            self.in_memory_db.extend(merge_buffer)\n",
    "            merge_buffer.clear()\n",
    "\n",
    "        import pickle\n",
    "\n",
    "        with open(\".\\\\temp\\\\in_memory_db_new.pkl\", \"wb\") as pkl_file:\n",
    "            pickle.dump(self.in_memory_db, pkl_file)\n",
    "        self.db.add_documents(self.in_memory_db)"
   ]
  },
  {
   "cell_type": "code",
   "execution_count": null,
   "metadata": {},
   "outputs": [],
   "source": [
    "repo_path = \".\\\\PathTracerAP\"\n",
    "\n",
    "knowledge_base = KnowledgeBase(repo_path)\n",
    "knowledge_base.generate_knowledge_base()"
   ]
  },
  {
   "cell_type": "code",
   "execution_count": 34,
   "metadata": {},
   "outputs": [
    {
     "name": "stderr",
     "output_type": "stream",
     "text": [
      "d:\\Installs\\Miniconda\\envs\\LLM\\Lib\\site-packages\\langchain_core\\vectorstores.py:379: UserWarning: Relevance scores must be between 0 and 1, got [(Document(page_content='.\\\\PathTracerAP\\\\GPUKernels.cuh\\n• `#pragma once`: This directive is used to indicate that the header file should only be included once in a single translation unit, avoiding multiple inclusions and potential compilation errors.\\n\\n• `#define GLM_FORCE_CUDA`: This macro is used to enable CUDA support in the GLM (Graphics Library Manager) library.\\n\\n• Headers included:\\n  • <cuda.h>\\n  • <cuda_runtime_api.h>\\n  • \"device_launch_parameters.h\"\\n  • <glm/glm.hpp>\\n  • <glm/gtc/matrix_transform.hpp>\\n  • <thrust/execution_policy.h>\\n  • <thrust/random.h>\\n  • <thrust/remove.h>\\n  • <thrust/device_vector.h>\\n  • <thrust/partition.h>\\n  • <iostream>\\n  • <chrono>\\n  • \"Renderer.h\"\\n  • \"Primitive.h\"\\n  • \"utility.h\"\\n\\n• Macros/#defines present:\\n  • FLOAT_MIN\\n  • FLOAT_MAX\\n  • GLM_FORCE_CUDA\\n\\n• Function:\\n  • computeRayBoundingBoxIntersection\\n    • Purpose: Computes the intersection of a ray and a bounding box.\\n    • Role: Used in ray tracing to determine if a ray intersects with a bounding box.\\n    • Parameters:\\n      • Ray* ray\\n      • BoundingBox* bounding_box\\n      • float& t\\n    • Local variables:\\n      • float t1\\n      • float t2\\n      • float t3\\n      • float t4\\n      • float t5\\n      • float t6\\n\\n• Classes referred to:\\n  • Ray\\n    • Member variables referred to:\\n      • transformed\\n        • dir\\n        • orig\\n      • cache\\n        • inv_dir\\n  • BoundingBox\\n    • Member variables referred to:\\n      • min\\n        • x\\n        • y\\n        • z\\n      • max\\n        • x\\n        • y\\n        • z', metadata={'source': '.\\\\PathTracerAP\\\\GPUKernels.cuh'}), -0.2621255637034725), (Document(page_content='.\\\\PathTracerAP\\\\GPUKernels.cuh\\n• `#pragma once`: This directive is used to indicate that the header file should only be included once in a single translation unit, avoiding multiple inclusions and potential compilation errors.\\n\\n• `#define GLM_FORCE_CUDA`: This macro is used to enable CUDA support in the GLM (Graphics Library Manager) library.\\n\\n• Headers included:\\n  • <cuda.h>\\n  • <cuda_runtime_api.h>\\n  • \"device_launch_parameters.h\"\\n  • <glm/glm.hpp>\\n  • <glm/gtc/matrix_transform.hpp>\\n  • <thrust/execution_policy.h>\\n  • <thrust/random.h>\\n  • <thrust/remove.h>\\n  • <thrust/device_vector.h>\\n  • <thrust/partition.h>\\n  • <iostream>\\n  • <chrono>\\n  • \"Renderer.h\"\\n  • \"Primitive.h\"\\n  • \"utility.h\"\\n\\n• Macros/#defines present:\\n  • FLOAT_MIN\\n  • FLOAT_MAX\\n  • GLM_FORCE_CUDA\\n\\n• Function:\\n  • computeRayBoundingBoxIntersection\\n    • Purpose: Computes the intersection of a ray and a bounding box.\\n    • Role: Used in ray tracing to determine if a ray intersects with a bounding box.\\n    • Parameters:\\n      • Ray* ray\\n      • BoundingBox* bounding_box\\n      • float& t\\n    • Local variables:\\n      • float t1\\n      • float t2\\n      • float t3\\n      • float t4\\n      • float t5\\n      • float t6\\n\\n• Classes referred to:\\n  • Ray\\n    • Member variables referred to:\\n      • transformed\\n        • dir\\n        • orig\\n      • cache\\n        • inv_dir\\n  • BoundingBox\\n    • Member variables referred to:\\n      • min\\n        • x\\n        • y\\n        • z\\n      • max\\n        • x\\n        • y\\n        • z', metadata={'source': '.\\\\PathTracerAP\\\\GPUKernels.cuh'}), -0.2621255637034725), (Document(page_content='.\\\\PathTracerAP\\\\Scene.cpp\\nHere is the combined passage in bullet points:\\n\\n• Headers:\\n  • glm.hpp (GLM - OpenGL Mathematics) for vector and matrix operations\\n  • Model.h (assumed) for the Model class definition\\n\\n• Macros/#defines:\\n  • None\\n\\n• Class names:\\n  • Model\\n\\n• Member functions of Model:\\n  • None are explicitly shown, but it is likely that there are functions to set/get member variables\\n\\n• Member variables of Model:\\n  • mesh_index\\n    • Purpose: stores the index of the mesh for the model\\n    • Referred to: when setting the mesh index for bunny_model_2\\n  • model_to_world\\n    • Purpose: stores the transformation matrix to convert from model space to world space\\n    • Referred to: when setting the model_to_world matrix for bunny_model_2\\n  • world_to_model\\n    • Purpose: stores the transformation matrix to convert from world space to model space\\n    • Referred to: when setting the world_to_model matrix for bunny_model_2\\n  • mat\\n    • Purpose: stores material properties for the model\\n    • Referred to: when setting material properties for bunny_model_2\\n    • Member variables of mat:\\n      • color\\n        • Purpose: stores the color of the material\\n        • Referred to: when setting the material color for bunny_model_2\\n      • material_type\\n        • Purpose: stores the type of material\\n        • Referred to: when setting the material type for bunny_model_2\\n      • phong_exponent\\n        • Purpose: stores the Phong exponent for the material\\n        • Referred to: when setting the Phong exponent for bunny_model_2\\n\\n• Functions:\\n  • glm::scale\\n    • Purpose: creates a scale transformation matrix\\n    • Role: used to create a scale matrix for bunny_model_2\\n  • glm::rotate\\n    • Purpose: creates a rotation transformation matrix\\n    • Role: used to create a rotation matrix for bunny_model_2\\n  • glm::translate\\n    • Purpose: creates a translation transformation matrix\\n    • Role: used to create a translation matrix for bunny_model_2\\n  • glm::inverse\\n    • Purpose: calculates the inverse of a matrix\\n    • Role: used to calculate the world_to_model matrix for bunny_model_2\\n  • glm::radians\\n    • Purpose: converts degrees to radians\\n\\n• Purpose of the code chunk:\\n  • Creates and configures two Model objects, armadillo_model and box_model, with specific transformations and material properties\\n  • Adds the armadillo_model to a models collection', metadata={'source': '.\\\\PathTracerAP\\\\Scene.cpp'}), -0.27236007280736096), (Document(page_content='.\\\\PathTracerAP\\\\Scene.cpp\\nHere is the combined passage in bullet points:\\n\\n• Headers:\\n  • glm.hpp (GLM - OpenGL Mathematics) for vector and matrix operations\\n  • Model.h (assumed) for the Model class definition\\n\\n• Macros/#defines:\\n  • None\\n\\n• Class names:\\n  • Model\\n\\n• Member functions of Model:\\n  • None are explicitly shown, but it is likely that there are functions to set/get member variables\\n\\n• Member variables of Model:\\n  • mesh_index\\n    • Purpose: stores the index of the mesh for the model\\n    • Referred to: when setting the mesh index for bunny_model_2\\n  • model_to_world\\n    • Purpose: stores the transformation matrix to convert from model space to world space\\n    • Referred to: when setting the model_to_world matrix for bunny_model_2\\n  • world_to_model\\n    • Purpose: stores the transformation matrix to convert from world space to model space\\n    • Referred to: when setting the world_to_model matrix for bunny_model_2\\n  • mat\\n    • Purpose: stores material properties for the model\\n    • Referred to: when setting material properties for bunny_model_2\\n    • Member variables of mat:\\n      • color\\n        • Purpose: stores the color of the material\\n        • Referred to: when setting the material color for bunny_model_2\\n      • material_type\\n        • Purpose: stores the type of material\\n        • Referred to: when setting the material type for bunny_model_2\\n      • phong_exponent\\n        • Purpose: stores the Phong exponent for the material\\n        • Referred to: when setting the Phong exponent for bunny_model_2\\n\\n• Functions:\\n  • glm::scale\\n    • Purpose: creates a scale transformation matrix\\n    • Role: used to create a scale matrix for bunny_model_2\\n  • glm::rotate\\n    • Purpose: creates a rotation transformation matrix\\n    • Role: used to create a rotation matrix for bunny_model_2\\n  • glm::translate\\n    • Purpose: creates a translation transformation matrix\\n    • Role: used to create a translation matrix for bunny_model_2\\n  • glm::inverse\\n    • Purpose: calculates the inverse of a matrix\\n    • Role: used to calculate the world_to_model matrix for bunny_model_2\\n  • glm::radians\\n    • Purpose: converts degrees to radians\\n\\n• Purpose of the code chunk:\\n  • Creates and configures two Model objects, armadillo_model and box_model, with specific transformations and material properties\\n  • Adds the armadillo_model to a models collection', metadata={'source': '.\\\\PathTracerAP\\\\Scene.cpp'}), -0.2723600829273729), (Document(page_content='.\\\\PathTracerAP\\\\utility.h|.\\\\PathTracerAP\\\\Scene.cpp|.\\\\PathTracerAP\\\\Scene.h\\nHere is the combined passage in bullet points:\\n\\n• Headers:\\n  • \"Scene.h\"\\n  • glm/glm.hpp (OpenGL Mathematics, a math library for 3D graphics)\\n  • Model.h (assumed) for the Model class definition\\n  • Assimp library for importing mesh files\\n  • BoundingBox.h (for BoundingBox class)\\n  • Voxel3DIndex.h (for Voxel3DIndex class)\\n  • Grid.h (for Grid class)\\n  • EntityType.h (for EntityType enum)\\n  • Voxel.h (for Voxel class)\\n  • EntityIndex.h (for EntityIndex class)\\n  • <iostream> (Input-output stream)\\n  • <fstream> (File stream)\\n  • <sstream> (String stream)\\n  • <vector> (Vector container)\\n  • <glm/gtc/matrix_transform.hpp> (GLM extension for matrix transformations)\\n  • <assimp/Importer.hpp> (Assimp library for 3D model importing)\\n  • <assimp/scene.h> (Assimp scene management)\\n  • <assimp/postprocess.h> (Assimp post-processing functionality)\\n  • \"Primitive.h\" (Custom header file for Primitive class)\\n  • <cuda.h> (CUDA Runtime API header file)\\n  • <cuda_runtime_api.h> (CUDA Runtime API header file)\\n  • \"device_launch_parameters.h\" (Header file for device launch parameters)\\n  • <thrust/random.h> (Thrust library header file for random number generation)\\n  • <thrust/remove.h> (Thrust library header file for removing elements from a sequence)\\n  • <thrust/random/uniform_real_distribution.hpp> (Thrust library header file for uniform real distribution)\\n  • <thrust/random/default_random_engine.hpp> (Thrust library header file for default random engine)\\n\\n• Macros/#defines:\\n  • CLAMP (used to clamp a value within a specified range [min, max])\\n  • BASE_MODEL_SCALE (used to scale 3D vectors)\\n  • GRID_X, GRID_Y, GRID_Z (macros/defines for grid dimensions)\\n  • GLM_FORCE_CUDA (macro to enable CUDA support in the GLM library)\\n  • MAX(a, b) (returns the maximum of two values `a` and `b`)\\n  • MIN(a, b) (returns the minimum of two values `a` and `b`)\\n  • ABS(x) (returns the absolute value of `x`)\\n  • IS_EQUAL(x, y) (checks if `x` is equal to `y` with a tolerance of `EPSILON`)\\n  • IS_LESS_THAN(x, y) (checks if `x` is less than `y` with a tolerance of `EPSILON`)\\n  • IS_MORE_THAN(x, y) (checks if `x` is more than `y` with a tolerance of `EPSILON`)\\n  • CEIL(x,y) (computes the ceiling of `x` divided by `y`)\\n  • PI (defines the mathematical constant pi)\\n  • TWO_PI (defines the mathematical constant 2*pi)\\n  • SQRT_OF_ONE_THIRD (defines the mathematical constant sqrt(1/3))\\n  • __inline__ (specifies that the function should be inlined by the compiler)\\n  • __host__ (specifies that the function can be executed on the host (CPU))\\n  • __device__ (specifies that the function can be executed on the device (GPU))\\n  • __forceinline__ (requests the compiler to inline the function aggressively)\\n  • phong_exponent (a constant or variable defining the exponent for Phong reflection model)\\n\\n• Namespaces:\\n  • std (Standard namespace)\\n  • Common (Custom namespace for common functionality)\\n  • Geometry (Custom namespace for geometric operations)\\n  • SceneElements (Custom namespace for scene elements)\\n  • SpatialAcceleration (Custom namespace for spatial acceleration)\\n\\n• Class names:\\n  • Scene\\n  • Model\\n  • Material\\n  • Mesh\\n  • Triangle\\n  • BoundingBox\\n  • Voxel3DIndex\\n  • Grid\\n  • EntityType\\n  • Voxel\\n  • EntityIndex\\n  • Primitive\\n  • glm::vec3 (3-component vector)\\n  • glm::mat4 (4x4 matrix)\\n  • glm::mat3 (3x3 matrix)\\n  • thrust::uniform_real_distribution (uniform real distribution)\\n  • thrust::default_random_engine (random number engine)\\n\\n• Member variables of Scene:\\n  • meshes (purpose: stores a collection of Mesh objects)\\n  • vertices (a container to store Vertex objects)\\n  • triangles (a container to store triangle data)\\n  • models (variable, a collection of models)\\n  • grids (variable, a collection of grids)\\n  • voxels (variable, a collection of voxels)\\n  • per_voxel_data_pool (variable, a collection of EntityIndex objects)\\n\\n• Member functions of Scene:\\n  • Scene', metadata={'source': '.\\\\PathTracerAP\\\\utility.h|.\\\\PathTracerAP\\\\Scene.cpp|.\\\\PathTracerAP\\\\Scene.h'}), -0.27514699135518117), (Document(page_content='.\\\\PathTracerAP\\\\utility.h|.\\\\PathTracerAP\\\\Scene.cpp|.\\\\PathTracerAP\\\\Scene.h\\nHere is the combined passage in bullet points:\\n\\n• Headers:\\n  • \"Scene.h\"\\n  • glm/glm.hpp (OpenGL Mathematics, a math library for 3D graphics)\\n  • Model.h (assumed) for the Model class definition\\n  • Assimp library for importing mesh files\\n  • BoundingBox.h (for BoundingBox class)\\n  • Voxel3DIndex.h (for Voxel3DIndex class)\\n  • Grid.h (for Grid class)\\n  • EntityType.h (for EntityType enum)\\n  • Voxel.h (for Voxel class)\\n  • EntityIndex.h (for EntityIndex class)\\n  • <iostream> (Input-output stream)\\n  • <fstream> (File stream)\\n  • <sstream> (String stream)\\n  • <vector> (Vector container)\\n  • <glm/gtc/matrix_transform.hpp> (GLM extension for matrix transformations)\\n  • <assimp/Importer.hpp> (Assimp library for 3D model importing)\\n  • <assimp/scene.h> (Assimp scene management)\\n  • <assimp/postprocess.h> (Assimp post-processing functionality)\\n  • \"Primitive.h\" (Custom header file for Primitive class)\\n  • <cuda.h> (CUDA Runtime API header file)\\n  • <cuda_runtime_api.h> (CUDA Runtime API header file)\\n  • \"device_launch_parameters.h\" (Header file for device launch parameters)\\n  • <thrust/random.h> (Thrust library header file for random number generation)\\n  • <thrust/remove.h> (Thrust library header file for removing elements from a sequence)\\n  • <thrust/random/uniform_real_distribution.hpp> (Thrust library header file for uniform real distribution)\\n  • <thrust/random/default_random_engine.hpp> (Thrust library header file for default random engine)\\n\\n• Macros/#defines:\\n  • CLAMP (used to clamp a value within a specified range [min, max])\\n  • BASE_MODEL_SCALE (used to scale 3D vectors)\\n  • GRID_X, GRID_Y, GRID_Z (macros/defines for grid dimensions)\\n  • GLM_FORCE_CUDA (macro to enable CUDA support in the GLM library)\\n  • MAX(a, b) (returns the maximum of two values `a` and `b`)\\n  • MIN(a, b) (returns the minimum of two values `a` and `b`)\\n  • ABS(x) (returns the absolute value of `x`)\\n  • IS_EQUAL(x, y) (checks if `x` is equal to `y` with a tolerance of `EPSILON`)\\n  • IS_LESS_THAN(x, y) (checks if `x` is less than `y` with a tolerance of `EPSILON`)\\n  • IS_MORE_THAN(x, y) (checks if `x` is more than `y` with a tolerance of `EPSILON`)\\n  • CEIL(x,y) (computes the ceiling of `x` divided by `y`)\\n  • PI (defines the mathematical constant pi)\\n  • TWO_PI (defines the mathematical constant 2*pi)\\n  • SQRT_OF_ONE_THIRD (defines the mathematical constant sqrt(1/3))\\n  • __inline__ (specifies that the function should be inlined by the compiler)\\n  • __host__ (specifies that the function can be executed on the host (CPU))\\n  • __device__ (specifies that the function can be executed on the device (GPU))\\n  • __forceinline__ (requests the compiler to inline the function aggressively)\\n  • phong_exponent (a constant or variable defining the exponent for Phong reflection model)\\n\\n• Namespaces:\\n  • std (Standard namespace)\\n  • Common (Custom namespace for common functionality)\\n  • Geometry (Custom namespace for geometric operations)\\n  • SceneElements (Custom namespace for scene elements)\\n  • SpatialAcceleration (Custom namespace for spatial acceleration)\\n\\n• Class names:\\n  • Scene\\n  • Model\\n  • Material\\n  • Mesh\\n  • Triangle\\n  • BoundingBox\\n  • Voxel3DIndex\\n  • Grid\\n  • EntityType\\n  • Voxel\\n  • EntityIndex\\n  • Primitive\\n  • glm::vec3 (3-component vector)\\n  • glm::mat4 (4x4 matrix)\\n  • glm::mat3 (3x3 matrix)\\n  • thrust::uniform_real_distribution (uniform real distribution)\\n  • thrust::default_random_engine (random number engine)\\n\\n• Member variables of Scene:\\n  • meshes (purpose: stores a collection of Mesh objects)\\n  • vertices (a container to store Vertex objects)\\n  • triangles (a container to store triangle data)\\n  • models (variable, a collection of models)\\n  • grids (variable, a collection of grids)\\n  • voxels (variable, a collection of voxels)\\n  • per_voxel_data_pool (variable, a collection of EntityIndex objects)\\n\\n• Member functions of Scene:\\n  • Scene', metadata={'source': '.\\\\PathTracerAP\\\\utility.h|.\\\\PathTracerAP\\\\Scene.cpp|.\\\\PathTracerAP\\\\Scene.h'}), -0.27514699135518117), (Document(page_content='.\\\\PathTracerAP\\\\utility.h|.\\\\PathTracerAP\\\\Scene.cpp|.\\\\PathTracerAP\\\\Scene.h\\nHere is the combined passage in bullet points:\\n\\n• Headers:\\n  • \"Scene.h\"\\n  • glm/glm.hpp (OpenGL Mathematics, a math library for 3D graphics)\\n  • Model.h (assumed) for the Model class definition\\n  • Assimp library for importing mesh files\\n  • BoundingBox.h (for BoundingBox class)\\n  • Voxel3DIndex.h (for Voxel3DIndex class)\\n  • Grid.h (for Grid class)\\n  • EntityType.h (for EntityType enum)\\n  • Voxel.h (for Voxel class)\\n  • EntityIndex.h (for EntityIndex class)\\n  • <iostream> (Input-output stream)\\n  • <fstream> (File stream)\\n  • <sstream> (String stream)\\n  • <vector> (Vector container)\\n  • <glm/gtc/matrix_transform.hpp> (GLM extension for matrix transformations)\\n  • <assimp/Importer.hpp> (Assimp library for 3D model importing)\\n  • <assimp/scene.h> (Assimp scene management)\\n  • <assimp/postprocess.h> (Assimp post-processing functionality)\\n  • \"Primitive.h\" (Custom header file for Primitive class)\\n  • <cuda.h> (CUDA Runtime API header file)\\n  • <cuda_runtime_api.h> (CUDA Runtime API header file)\\n  • \"device_launch_parameters.h\" (Header file for device launch parameters)\\n  • <thrust/random.h> (Thrust library header file for random number generation)\\n  • <thrust/remove.h> (Thrust library header file for removing elements from a sequence)\\n  • <thrust/random/uniform_real_distribution.hpp> (Thrust library header file for uniform real distribution)\\n  • <thrust/random/default_random_engine.hpp> (Thrust library header file for default random engine)\\n\\n• Macros/#defines:\\n  • CLAMP (used to clamp a value within a specified range [min, max])\\n  • BASE_MODEL_SCALE (used to scale 3D vectors)\\n  • GRID_X, GRID_Y, GRID_Z (macros/defines for grid dimensions)\\n  • GLM_FORCE_CUDA (macro to enable CUDA support in the GLM library)\\n  • MAX(a, b) (returns the maximum of two values `a` and `b`)\\n  • MIN(a, b) (returns the minimum of two values `a` and `b`)\\n  • ABS(x) (returns the absolute value of `x`)\\n  • IS_EQUAL(x, y) (checks if `x` is equal to `y` with a tolerance of `EPSILON`)\\n  • IS_LESS_THAN(x, y) (checks if `x` is less than `y` with a tolerance of `EPSILON`)\\n  • IS_MORE_THAN(x, y) (checks if `x` is more than `y` with a tolerance of `EPSILON`)\\n  • CEIL(x,y) (computes the ceiling of `x` divided by `y`)\\n  • PI (defines the mathematical constant pi)\\n  • TWO_PI (defines the mathematical constant 2*pi)\\n  • SQRT_OF_ONE_THIRD (defines the mathematical constant sqrt(1/3))\\n  • __inline__ (specifies that the function should be inlined by the compiler)\\n  • __host__ (specifies that the function can be executed on the host (CPU))\\n  • __device__ (specifies that the function can be executed on the device (GPU))\\n  • __forceinline__ (requests the compiler to inline the function aggressively)\\n  • phong_exponent (a constant or variable defining the exponent for Phong reflection model)\\n\\n• Namespaces:\\n  • std (Standard namespace)\\n  • Common (Custom namespace for common functionality)\\n  • Geometry (Custom namespace for geometric operations)\\n  • SceneElements (Custom namespace for scene elements)\\n  • SpatialAcceleration (Custom namespace for spatial acceleration)\\n\\n• Class names:\\n  • Scene\\n  • Model\\n  • Material\\n  • Mesh\\n  • Triangle\\n  • BoundingBox\\n  • Voxel3DIndex\\n  • Grid\\n  • EntityType\\n  • Voxel\\n  • EntityIndex\\n  • Primitive\\n  • glm::vec3 (3-component vector)\\n  • glm::mat4 (4x4 matrix)\\n  • glm::mat3 (3x3 matrix)\\n  • thrust::uniform_real_distribution (uniform real distribution)\\n  • thrust::default_random_engine (random number engine)\\n\\n• Member variables of Scene:\\n  • meshes (purpose: stores a collection of Mesh objects)\\n  • vertices (a container to store Vertex objects)\\n  • triangles (a container to store triangle data)\\n  • models (variable, a collection of models)\\n  • grids (variable, a collection of grids)\\n  • voxels (variable, a collection of voxels)\\n  • per_voxel_data_pool (variable, a collection of EntityIndex objects)\\n\\n• Member functions of Scene:\\n  • Scene', metadata={'source': '.\\\\PathTracerAP\\\\utility.h|.\\\\PathTracerAP\\\\Scene.cpp|.\\\\PathTracerAP\\\\Scene.h'}), -0.27514700113830726), (Document(page_content='.\\\\PathTracerAP\\\\utility.h|.\\\\PathTracerAP\\\\Scene.cpp|.\\\\PathTracerAP\\\\Scene.h\\nHere is the combined passage in bullet points:\\n\\n• Headers:\\n  • \"Scene.h\"\\n  • glm/glm.hpp (OpenGL Mathematics, a math library for 3D graphics)\\n  • Model.h (assumed) for the Model class definition\\n  • Assimp library for importing mesh files\\n  • BoundingBox.h (for BoundingBox class)\\n  • Voxel3DIndex.h (for Voxel3DIndex class)\\n  • Grid.h (for Grid class)\\n  • EntityType.h (for EntityType enum)\\n  • Voxel.h (for Voxel class)\\n  • EntityIndex.h (for EntityIndex class)\\n  • <iostream> (Input-output stream)\\n  • <fstream> (File stream)\\n  • <sstream> (String stream)\\n  • <vector> (Vector container)\\n  • <glm/gtc/matrix_transform.hpp> (GLM extension for matrix transformations)\\n  • <assimp/Importer.hpp> (Assimp library for 3D model importing)\\n  • <assimp/scene.h> (Assimp scene management)\\n  • <assimp/postprocess.h> (Assimp post-processing functionality)\\n  • \"Primitive.h\" (Custom header file for Primitive class)\\n  • <cuda.h> (CUDA Runtime API header file)\\n  • <cuda_runtime_api.h> (CUDA Runtime API header file)\\n  • \"device_launch_parameters.h\" (Header file for device launch parameters)\\n  • <thrust/random.h> (Thrust library header file for random number generation)\\n  • <thrust/remove.h> (Thrust library header file for removing elements from a sequence)\\n  • <thrust/random/uniform_real_distribution.hpp> (Thrust library header file for uniform real distribution)\\n  • <thrust/random/default_random_engine.hpp> (Thrust library header file for default random engine)\\n\\n• Macros/#defines:\\n  • CLAMP (used to clamp a value within a specified range [min, max])\\n  • BASE_MODEL_SCALE (used to scale 3D vectors)\\n  • GRID_X, GRID_Y, GRID_Z (macros/defines for grid dimensions)\\n  • GLM_FORCE_CUDA (macro to enable CUDA support in the GLM library)\\n  • MAX(a, b) (returns the maximum of two values `a` and `b`)\\n  • MIN(a, b) (returns the minimum of two values `a` and `b`)\\n  • ABS(x) (returns the absolute value of `x`)\\n  • IS_EQUAL(x, y) (checks if `x` is equal to `y` with a tolerance of `EPSILON`)\\n  • IS_LESS_THAN(x, y) (checks if `x` is less than `y` with a tolerance of `EPSILON`)\\n  • IS_MORE_THAN(x, y) (checks if `x` is more than `y` with a tolerance of `EPSILON`)\\n  • CEIL(x,y) (computes the ceiling of `x` divided by `y`)\\n  • PI (defines the mathematical constant pi)\\n  • TWO_PI (defines the mathematical constant 2*pi)\\n  • SQRT_OF_ONE_THIRD (defines the mathematical constant sqrt(1/3))\\n  • __inline__ (specifies that the function should be inlined by the compiler)\\n  • __host__ (specifies that the function can be executed on the host (CPU))\\n  • __device__ (specifies that the function can be executed on the device (GPU))\\n  • __forceinline__ (requests the compiler to inline the function aggressively)\\n  • phong_exponent (a constant or variable defining the exponent for Phong reflection model)\\n\\n• Namespaces:\\n  • std (Standard namespace)\\n  • Common (Custom namespace for common functionality)\\n  • Geometry (Custom namespace for geometric operations)\\n  • SceneElements (Custom namespace for scene elements)\\n  • SpatialAcceleration (Custom namespace for spatial acceleration)\\n\\n• Class names:\\n  • Scene\\n  • Model\\n  • Material\\n  • Mesh\\n  • Triangle\\n  • BoundingBox\\n  • Voxel3DIndex\\n  • Grid\\n  • EntityType\\n  • Voxel\\n  • EntityIndex\\n  • Primitive\\n  • glm::vec3 (3-component vector)\\n  • glm::mat4 (4x4 matrix)\\n  • glm::mat3 (3x3 matrix)\\n  • thrust::uniform_real_distribution (uniform real distribution)\\n  • thrust::default_random_engine (random number engine)\\n\\n• Member variables of Scene:\\n  • meshes (purpose: stores a collection of Mesh objects)\\n  • vertices (a container to store Vertex objects)\\n  • triangles (a container to store triangle data)\\n  • models (variable, a collection of models)\\n  • grids (variable, a collection of grids)\\n  • voxels (variable, a collection of voxels)\\n  • per_voxel_data_pool (variable, a collection of EntityIndex objects)\\n\\n• Member functions of Scene:\\n  • Scene', metadata={'source': '.\\\\PathTracerAP\\\\utility.h|.\\\\PathTracerAP\\\\Scene.cpp|.\\\\PathTracerAP\\\\Scene.h'}), -0.27514700113830726), (Document(page_content='.\\\\PathTracerAP\\\\Renderer.cpp\\nHere is the combined passage in bullet points:\\n\\n• The code chunk is a member function of the `Renderer` class, named `allocateOnGPU`, which takes a `Scene` object as a parameter.\\n• The purpose of this function is to allocate memory on the GPU for various data structures used in the rendering process.\\n\\n• The `GPUMemoryPool` class is used to manage memory allocation on the GPU. It is templated, allowing it to work with different data types.\\n• Four instances of `GPUMemoryPool` are created, each for a different data type: `Model`, `Mesh`, `Vertex`, `Triangle`, and `Grid`.\\n• Each instance is used to allocate memory on the GPU for the corresponding data structure in the `Scene` object.\\n\\n• The `render_data` object is a member variable of the `Renderer` class, and it contains pointers to the allocated GPU memory for each data structure.\\n\\n• Member variables of the `Renderer` class:\\n  • `render_data`: an object that contains pointers to the allocated GPU memory for each data structure.\\n\\n• Member variables of the `render_data` class:\\n  • `dev_model_data`: a pointer to the allocated GPU memory for models.\\n  • `dev_mesh_data`: a pointer to the allocated GPU memory for meshes.\\n  • `dev_per_vertex_data`: a pointer to the allocated GPU memory for vertices.\\n  • `dev_triangle_data`: a pointer to the allocated GPU memory for triangles.\\n  • `dev_grid_data`: a pointer to the allocated GPU memory for grids.\\n  • `dev_voxel_data`: Holds voxel data on the GPU\\n  • `dev_per_voxel_data`: Holds per-voxel data on the GPU\\n  • `dev_ray_data`: Holds ray data on the GPU\\n  • `dev_image_data`: Holds image data on the GPU\\n\\n• The `Scene` class is used to store the scene data, which includes models, meshes, vertices, triangles, grids, and voxels.\\n\\n• Member variables of the `Scene` class:\\n  • `voxels`: Holds voxel data on the CPU\\n  • `per_voxel_data_pool`: Holds per-voxel data on the CPU\\n\\n• The `getInstance` method of the `GPUMemoryPool` class is used to get a pointer to the allocated memory.\\n• The `allocate` method of the `GPUMemoryPool` class is used to allocate memory for the specified data.\\n\\n• No headers, macros, or #defines are present in this code chunk.', metadata={'source': '.\\\\PathTracerAP\\\\Renderer.cpp'}), -0.28129826127313096), (Document(page_content='.\\\\PathTracerAP\\\\Scene.cpp\\nHere is the combined passage in bullet points:\\n\\n• The code chunk includes the following headers:\\n  • glm (OpenGL Mathematics) for vector and matrix operations\\n  • No macros or #defines are present in this chunk of code\\n\\n• The class names present in the chunk are:\\n  • Model\\n  • Material (enum class)\\n\\n• Member functions and variables of the Model class:\\n  • mesh_index (variable): stores the index of the mesh\\n  • model_to_world (variable): stores the transformation matrix from model space to world space\\n  • world_to_model (variable): stores the transformation matrix from world space to model space\\n  • mat (variable): stores material properties\\n    - color (variable): stores the color of the material\\n    - material_type (variable): stores the type of material\\n    - phong_exponent (variable): stores the Phong exponent for the material\\n  • No member functions are present in this class\\n\\n• Member functions and variables of the Material class (enum):\\n  • MaterialType (enum): represents different material types\\n    - COAT (enum value): represents a coat material type\\n  • No member functions are present in this class\\n\\n• The purpose of each function:\\n  • glm::scale: creates a scaling matrix\\n  • glm::rotate: creates a rotation matrix\\n  • glm::translate: creates a translation matrix\\n  • glm::inverse: calculates the inverse of a matrix\\n  • glm::radians: converts degrees to radians\\n  • glm::vec3: creates a 3-component vector\\n  • glm::mat4: creates a 4x4 matrix\\n\\n• The purpose of each variable:\\n  • scale_matrix: stores the scaling matrix\\n  • rotate_matrix: stores the rotation matrix\\n  • translation_matrix: stores the translation matrix\\n  • box_model: an instance of the Model class, representing a box model\\n  • dragon_model: an instance of the Model class, representing a dragon model\\n  • models: a container (likely a vector) to store multiple models\\n\\n• Where each member variable is referred to:\\n  • mesh_index: referred to when setting the mesh index of the box model\\n  • model_to_world: referred to when setting the transformation matrix of the box model\\n  • world_to_model: referred to when setting the inverse transformation matrix of the box model\\n  • mat: referred to when setting material properties of the box model\\n  • color: referred to when setting the color of the material\\n  • material_type: referred to when setting the material type\\n  • phong_exponent: referred to when setting the Phong exponent', metadata={'source': '.\\\\PathTracerAP\\\\Scene.cpp'}), -0.2979924688825826)]\n",
      "  warnings.warn(\n",
      "d:\\Installs\\Miniconda\\envs\\LLM\\Lib\\site-packages\\langchain_core\\vectorstores.py:391: UserWarning: No relevant docs were retrieved using the relevance score threshold 0.06\n",
      "  warnings.warn(\n"
     ]
    },
    {
     "data": {
      "text/plain": [
       "'I apologize, but the provided context is empty. To enlist all the classes in the project, I would need more information about the project, such as the code files or directories. \\n\\nIf you could provide me with the actual code or a description of the project, I would be happy to assist you in identifying the classes present in the project.'"
      ]
     },
     "execution_count": 34,
     "metadata": {},
     "output_type": "execute_result"
    }
   ],
   "source": [
    "from langchain_core.prompts import ChatPromptTemplate, MessagesPlaceholder\n",
    "from langchain_core.runnables import RunnablePassthrough\n",
    "\n",
    "qa_chat_prompt_template = ChatPromptTemplate.from_messages([\n",
    "    (\"system\", \"You are an AI assistant that has received a query from a user related to a code base that you have understood thoroughly.You are also well-versed in c++ and CUDA. The query might involve details such as what a specific function does, the purpose of a line of code, how a component fits into the architecture, or any other technical aspect. You will be given a supporting context to answer the query.\"),\n",
    "    (\"human\", \"Answer the query below using the provided context:\\nQuery:{query}\\nContext:{context}\")\n",
    "])\n",
    "\n",
    "threshold_score = 0.06\n",
    "info_retriever = store_db.as_retriever(\n",
    "    search_type=\"similarity_score_threshold\",\n",
    "    search_kwargs={'k': 10, 'score_threshold': threshold_score}\n",
    ")\n",
    "qa_chain = ({\"query\": RunnablePassthrough(), \"context\": info_retriever } | qa_chat_prompt_template | llm)\n",
    "qa_chain.invoke(\"Enlist all the classes in the project\").content"
   ]
  },
  {
   "cell_type": "markdown",
   "metadata": {},
   "source": [
    "### CodeDocBot - UI"
   ]
  },
  {
   "cell_type": "code",
   "execution_count": null,
   "metadata": {},
   "outputs": [],
   "source": [
    "import gradio as gr\n",
    "import time\n",
    "\n",
    "def process_user_query(message, history):\n",
    "    if len(history) % 2 == 0:\n",
    "        return f\"Yes, I do think that '{message}'\"\n",
    "    else:\n",
    "        return \"I don't think so\"\n",
    "\n",
    "def process_source_code(dir_path):\n",
    "    progress = gr.Progress()\n",
    "    # Simulate file processing with a delay\n",
    "    for i in range(10):\n",
    "        time.sleep(0.5)\n",
    "        progress(i / 10)\n",
    "        a = True\n",
    "\n",
    "# Define Gradio interface\n",
    "with gr.Blocks() as demo:\n",
    "    gr.Markdown(\"# CodeDocBot\")\n",
    "    dir_path = gr.Textbox(label=\"Source-code directory path\", placeholder=\"Enter the path to the folder\")\n",
    "    process_button = gr.Button(\"Process File\")\n",
    "    output_text = gr.Textbox(label=\"\")\n",
    "    \n",
    "    process_button.click(fn=process_source_code, inputs=dir_path, outputs=output_text)\n",
    "\n",
    "demo.launch()\n",
    "gr.ChatInterface(process_user_query).launch()\n",
    "    "
   ]
  }
 ],
 "metadata": {
  "kernelspec": {
   "display_name": "Python 3",
   "language": "python",
   "name": "python3"
  },
  "language_info": {
   "codemirror_mode": {
    "name": "ipython",
    "version": 3
   },
   "file_extension": ".py",
   "mimetype": "text/x-python",
   "name": "python",
   "nbconvert_exporter": "python",
   "pygments_lexer": "ipython3",
   "version": "3.12.3"
  }
 },
 "nbformat": 4,
 "nbformat_minor": 2
}
